{
  "nbformat": 4,
  "nbformat_minor": 0,
  "metadata": {
    "colab": {
      "name": "Copy of Assignment-1dmdw.ipynb",
      "provenance": [],
      "collapsed_sections": [],
      "authorship_tag": "ABX9TyNVHZnqjIW5VJxHztknYDIt",
      "include_colab_link": true
    },
    "kernelspec": {
      "name": "python3",
      "display_name": "Python 3"
    }
  },
  "cells": [
    {
      "cell_type": "markdown",
      "metadata": {
        "id": "view-in-github",
        "colab_type": "text"
      },
      "source": [
        "<a href=\"https://colab.research.google.com/github/Somu231/DMDW/blob/main/Copy_of_Assignment_1dmdw.ipynb\" target=\"_parent\"><img src=\"https://colab.research.google.com/assets/colab-badge.svg\" alt=\"Open In Colab\"/></a>"
      ]
    },
    {
      "cell_type": "code",
      "metadata": {
        "colab": {
          "base_uri": "https://localhost:8080/"
        },
        "id": "E_7koh0c_7hG",
        "outputId": "391b9ea9-59a6-4316-b833-ea9463349a96"
      },
      "source": [
        "n_num= [23,34,12,5,6,22,33,41,56,56,78,12,12,12]\n",
        "n=len(n_num)\n",
        "get_sum=sum(n_num)\n",
        "mean=get_sum/n\n",
        "print(\"Mean/Average is:\"+str(mean))"
      ],
      "execution_count": null,
      "outputs": [
        {
          "output_type": "stream",
          "text": [
            "Mean/Average is:28.714285714285715\n"
          ],
          "name": "stdout"
        }
      ]
    },
    {
      "cell_type": "code",
      "metadata": {
        "colab": {
          "base_uri": "https://localhost:8080/"
        },
        "id": "Au6pVXA8AfN-",
        "outputId": "2de2bfff-115e-44f3-802d-b000b1a55942"
      },
      "source": [
        "#median without library function\n",
        "n_num = [23,34,12,5,6,22,33,41,56,56,78,12,12,12] \n",
        "n = len(n_num) \n",
        "n_num.sort() \n",
        "  \n",
        "if n % 2 == 0: \n",
        "    median1 = n_num[n//2] \n",
        "    median2 = n_num[n//2 - 1] \n",
        "    median = (median1 + median2)/2\n",
        "else: \n",
        "    median = n_num[n//2] \n",
        "print(\"Median is: \" + str(median))"
      ],
      "execution_count": null,
      "outputs": [
        {
          "output_type": "stream",
          "text": [
            "Median is: 22.5\n"
          ],
          "name": "stdout"
        }
      ]
    },
    {
      "cell_type": "code",
      "metadata": {
        "colab": {
          "base_uri": "https://localhost:8080/"
        },
        "id": "PffjdRBOAot6",
        "outputId": "4573a26f-e27b-4c72-9cc2-a753cc1ce50a"
      },
      "source": [
        "#mode without libray function\n",
        "from collections import Counter \n",
        "n_num = [23,34,12,5,6,22,33,41,56,56,78,12,12,12] \n",
        "n = len(n_num) \n",
        "  \n",
        "data = Counter(n_num) \n",
        "get_mode = dict(data) \n",
        "mode = [k for k, v in get_mode.items() if v == max(list(data.values()))] \n",
        "  \n",
        "if len(mode) == n: \n",
        "    get_mode = \" mode not found\"\n",
        "else: \n",
        "    get_mode = \"Mode is / are: \" + ', '.join(map(str, mode)) \n",
        "      \n",
        "print(get_mode)"
      ],
      "execution_count": null,
      "outputs": [
        {
          "output_type": "stream",
          "text": [
            "Mode is / are: 12\n"
          ],
          "name": "stdout"
        }
      ]
    },
    {
      "cell_type": "code",
      "metadata": {
        "colab": {
          "base_uri": "https://localhost:8080/"
        },
        "id": "RTaWPO0dAwzI",
        "outputId": "d513766e-2a20-4ab7-a74b-30814caefad7"
      },
      "source": [
        "import statistics\n",
        "statistics.mean([23,34,12,5,6,22,33,41,56,56,78,12,12,12])"
      ],
      "execution_count": null,
      "outputs": [
        {
          "output_type": "execute_result",
          "data": {
            "text/plain": [
              "28.714285714285715"
            ]
          },
          "metadata": {
            "tags": []
          },
          "execution_count": 4
        }
      ]
    },
    {
      "cell_type": "code",
      "metadata": {
        "colab": {
          "base_uri": "https://localhost:8080/"
        },
        "id": "JiKuEqUENfBS",
        "outputId": "63844af4-76b2-4853-b0bb-81e9a8285618"
      },
      "source": [
        "# calculatuon for  list of variance \n",
        "import numpy as np \n",
        "list = [ 23,34,12,22,5,33,41,56,78] \n",
        "print(np.var(list))"
      ],
      "execution_count": null,
      "outputs": [
        {
          "output_type": "stream",
          "text": [
            "451.0617283950617\n"
          ],
          "name": "stdout"
        }
      ]
    },
    {
      "cell_type": "code",
      "metadata": {
        "colab": {
          "base_uri": "https://localhost:8080/"
        },
        "id": "jYFosyGmNpW-",
        "outputId": "eacaf48d-0aae-42a8-ea8f-57b2d3641719"
      },
      "source": [
        "#calculation of standard deviation\n",
        "import numpy as np \n",
        "  \n",
        "# Taking the elements in List type\n",
        "list = [23,34,12,22,5,33,41,56,78]  \n",
        "print(np.std(list))"
      ],
      "execution_count": null,
      "outputs": [
        {
          "output_type": "stream",
          "text": [
            "21.238213870169538\n"
          ],
          "name": "stdout"
        }
      ]
    },
    {
      "cell_type": "code",
      "metadata": {
        "id": "z5JGIZwWNt-A"
      },
      "source": [
        ""
      ],
      "execution_count": null,
      "outputs": []
    }
  ]
}